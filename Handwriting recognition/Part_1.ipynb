{
 "cells": [
  {
   "cell_type": "markdown",
   "metadata": {},
   "source": [
    "#### Introduction\n",
    "- このコードは\"OCR model for reading Captchas\"を可変長のテキストを持つIAMデータセットに拡張する方法について取り上げる。\n",
    "- データセットの各サンプルは手書きテキストの画像で、対応するターゲットは画像に存在する文字列である。"
   ]
  },
  {
   "cell_type": "markdown",
   "metadata": {},
   "source": [
    "#### Data\n",
    "- データセットがどのように構成されているかプレビューする。\n",
    "- #で始まる行は単なるメタデータである。"
   ]
  },
  {
   "cell_type": "code",
   "execution_count": 15,
   "metadata": {},
   "outputs": [
    {
     "name": "stdout",
     "output_type": "stream",
     "text": [
      "#--- words.txt ---------------------------------------------------------------#\n",
      "#\n",
      "# iam database word information\n",
      "#\n",
      "# format: a01-000u-00-00 ok 154 1 408 768 27 51 AT A\n",
      "#\n",
      "#     a01-000u-00-00  -> word id for line 00 in form a01-000u\n",
      "#     ok              -> result of word segmentation\n",
      "#                            ok: word was correctly\n",
      "#                            er: segmentation of word can be bad\n",
      "#\n",
      "#     154             -> graylevel to binarize the line containing this word\n",
      "#     1               -> number of components for this word\n",
      "#     408 768 27 51   -> bounding box around this word in x,y,w,h format\n",
      "#     AT              -> the grammatical tag for this word, see the\n",
      "#                        file tagset.txt for an explanation\n",
      "#     A               -> the transcription for this word\n",
      "#\n",
      "a01-000u-00-00 ok 154 408 768 27 51 AT A\n",
      "a01-000u-00-01 ok 154 507 766 213 48 NN MOVE\n"
     ]
    }
   ],
   "source": [
    "!head -20 data/IAM_Words/words.txt"
   ]
  },
  {
   "cell_type": "markdown",
   "metadata": {},
   "source": [
    "#### Setup"
   ]
  },
  {
   "cell_type": "code",
   "execution_count": 16,
   "metadata": {},
   "outputs": [],
   "source": [
    "from keras.layers import StringLookup\n",
    "import keras\n",
    "\n",
    "import matplotlib.pyplot as plt\n",
    "import tensorflow as tf\n",
    "import numpy as np\n",
    "import os"
   ]
  },
  {
   "cell_type": "markdown",
   "metadata": {},
   "source": [
    "#### Dataset splitting"
   ]
  },
  {
   "cell_type": "code",
   "execution_count": 17,
   "metadata": {},
   "outputs": [
    {
     "name": "stdout",
     "output_type": "stream",
     "text": [
      "96456\n"
     ]
    }
   ],
   "source": [
    "base_path = \"data/IAM_Words/\"\n",
    "words_list = []\n",
    "\n",
    "words = open(f\"{base_path}/words.txt\", \"r\").readlines()\n",
    "for line in words:\n",
    "    if line[0] == \"#\":\n",
    "        continue\n",
    "    if line.split(\" \")[1] != \"err\": # エラーを除外\n",
    "        words_list.append(line)\n",
    "\n",
    "print(len(words_list))\n",
    "np.random.shuffle(words_list)"
   ]
  },
  {
   "cell_type": "code",
   "execution_count": 18,
   "metadata": {},
   "outputs": [
    {
     "name": "stdout",
     "output_type": "stream",
     "text": [
      "Total training samples: 86810\n",
      "Toral validation samples: 4823\n",
      "Total test samples: 4823\n"
     ]
    }
   ],
   "source": [
    "# データセットを train:90, validation:5, test:5 の割合で分割\n",
    "split_idx = int(0.9 * len(words_list))\n",
    "train_samples = words_list[:split_idx]\n",
    "test_samples = words_list[split_idx:]\n",
    "\n",
    "val_split_idx  = int(0.5 * len(test_samples))\n",
    "validation_samples = test_samples[:val_split_idx]\n",
    "test_samples = test_samples[val_split_idx:]\n",
    "\n",
    "assert len(words_list) == len(train_samples) + len(validation_samples) + len(test_samples)\n",
    "\n",
    "print(f\"Total training samples: {len(train_samples)}\")\n",
    "print(f\"Toral validation samples: {len(validation_samples)}\")\n",
    "print(f\"Total test samples: {len(test_samples)}\")"
   ]
  },
  {
   "cell_type": "markdown",
   "metadata": {},
   "source": [
    "#### Data input pipeline"
   ]
  },
  {
   "cell_type": "code",
   "execution_count": 19,
   "metadata": {},
   "outputs": [],
   "source": [
    "# 画像パスの準備\n",
    "base_image_path = os.path.join(base_path)\n",
    "\n",
    "def get_image_paths_and_labels(samples):\n",
    "    paths = []\n",
    "    corrected_samples = []\n",
    "    for (i, file_line) in enumerate(samples):\n",
    "        line_split = file_line.strip()\n",
    "        line_split = line_split.split(\" \")\n",
    "\n",
    "        # 各行が分割されると、対応する画像は次のような書式になる: \n",
    "        # part1/part1-part2/part1-part2-part3.png\n",
    "        image_name = line_split[0]\n",
    "        partI = image_name.split(\"-\")[0]\n",
    "        partII = image_name.split(\"-\")[1]\n",
    "        img_path = os.path.join(\n",
    "            base_image_path, partI, partI + \"-\" + partII, image_name + \".png\"\n",
    "        )\n",
    "        if os.path.getsize(img_path):\n",
    "            paths.append(img_path)\n",
    "            corrected_samples.append(file_line.split(\"\\n\")[0])\n",
    "\n",
    "    return paths, corrected_samples\n",
    "\n",
    "train_img_paths, train_labels = get_image_paths_and_labels(train_samples)\n",
    "validation_img_paths, validation_labels = get_image_paths_and_labels(validation_samples)\n",
    "test_img_paths, test_labels = get_image_paths_and_labels(test_samples)"
   ]
  },
  {
   "cell_type": "code",
   "execution_count": 22,
   "metadata": {},
   "outputs": [
    {
     "name": "stdout",
     "output_type": "stream",
     "text": [
      "Maximum length: 21\n",
      "Vocab size: 78\n"
     ]
    },
    {
     "data": {
      "text/plain": [
       "['present', 'the', 'is', 'one', 'was', 'was', 'that', 'Europe', 'get', 'those']"
      ]
     },
     "execution_count": 22,
     "metadata": {},
     "output_type": "execute_result"
    }
   ],
   "source": [
    "# 訓練データから最大長および語彙のサイズを求める\n",
    "train_labels_cleaned = []\n",
    "characters = set()\n",
    "max_len = 0\n",
    "\n",
    "for label in train_labels:\n",
    "    label = label.split(\" \")[-1].strip()\n",
    "    for char in label:\n",
    "        characters.add(char)\n",
    "\n",
    "    max_len = max(max_len, len(label))\n",
    "    train_labels_cleaned.append(label)\n",
    "\n",
    "characters = sorted(list(characters))\n",
    "\n",
    "print(f\"Maximum length: {max_len}\")\n",
    "print(f\"Vocab size: {len(characters)}\")\n",
    "\n",
    "# ラベルの確認\n",
    "train_labels_cleaned[:10]"
   ]
  },
  {
   "cell_type": "code",
   "execution_count": null,
   "metadata": {},
   "outputs": [],
   "source": []
  }
 ],
 "metadata": {
  "kernelspec": {
   "display_name": "tensorflow_ml_1",
   "language": "python",
   "name": "python3"
  },
  "language_info": {
   "codemirror_mode": {
    "name": "ipython",
    "version": 3
   },
   "file_extension": ".py",
   "mimetype": "text/x-python",
   "name": "python",
   "nbconvert_exporter": "python",
   "pygments_lexer": "ipython3",
   "version": "3.10.13"
  }
 },
 "nbformat": 4,
 "nbformat_minor": 2
}
