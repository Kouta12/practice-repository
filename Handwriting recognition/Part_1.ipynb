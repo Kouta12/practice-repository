{
 "cells": [
  {
   "cell_type": "markdown",
   "metadata": {},
   "source": [
    "#### Introduction\n",
    "- このコードは\"OCR model for reading Captchas\"を可変長のテキストを持つIAMデータセットに拡張する方法について取り上げる。\n",
    "- データセットの各サンプルは手書きテキストの画像で、対応するターゲットは画像に存在する文字列である。"
   ]
  },
  {
   "cell_type": "markdown",
   "metadata": {},
   "source": [
    "### Data\n",
    "- データセットがどのように構成されているかプレビューする。\n",
    "- #で始まる行は単なるメタデータである。"
   ]
  },
  {
   "cell_type": "code",
   "execution_count": 4,
   "metadata": {},
   "outputs": [
    {
     "name": "stdout",
     "output_type": "stream",
     "text": [
      "#--- words.txt ---------------------------------------------------------------#\n",
      "#\n",
      "# iam database word information\n",
      "#\n",
      "# format: a01-000u-00-00 ok 154 1 408 768 27 51 AT A\n",
      "#\n",
      "#     a01-000u-00-00  -> word id for line 00 in form a01-000u\n",
      "#     ok              -> result of word segmentation\n",
      "#                            ok: word was correctly\n",
      "#                            er: segmentation of word can be bad\n",
      "#\n",
      "#     154             -> graylevel to binarize the line containing this word\n",
      "#     1               -> number of components for this word\n",
      "#     408 768 27 51   -> bounding box around this word in x,y,w,h format\n",
      "#     AT              -> the grammatical tag for this word, see the\n",
      "#                        file tagset.txt for an explanation\n",
      "#     A               -> the transcription for this word\n",
      "#\n",
      "a01-000u-00-00 ok 154 408 768 27 51 AT A\n",
      "a01-000u-00-01 ok 154 507 766 213 48 NN MOVE\n"
     ]
    }
   ],
   "source": [
    "!head -20 data/IAM_Words/words.txt"
   ]
  },
  {
   "cell_type": "code",
   "execution_count": null,
   "metadata": {},
   "outputs": [],
   "source": []
  }
 ],
 "metadata": {
  "kernelspec": {
   "display_name": "tensorflow_ml_1",
   "language": "python",
   "name": "python3"
  },
  "language_info": {
   "codemirror_mode": {
    "name": "ipython",
    "version": 3
   },
   "file_extension": ".py",
   "mimetype": "text/x-python",
   "name": "python",
   "nbconvert_exporter": "python",
   "pygments_lexer": "ipython3",
   "version": "3.10.13"
  }
 },
 "nbformat": 4,
 "nbformat_minor": 2
}
