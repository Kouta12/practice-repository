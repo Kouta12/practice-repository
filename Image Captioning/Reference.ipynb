{
 "cells": [
  {
   "cell_type": "markdown",
   "metadata": {},
   "source": [
    "### **1.Setup**"
   ]
  },
  {
   "cell_type": "markdown",
   "metadata": {},
   "source": [
    "### **2.Download the data**\n",
    "**Module: tf.data**"
   ]
  },
  {
   "cell_type": "markdown",
   "metadata": {},
   "source": [
    "### **3.Preparing the data**\n",
    "\n",
    "- strip(): 両端（先頭、末尾）の文字を削除\n",
    "- startswith()・endswith(): 指定した文字列で始まる・終わるかチェックする --> Return True:含まれる, False: 含まれない"
   ]
  },
  {
   "cell_type": "markdown",
   "metadata": {},
   "source": []
  }
 ],
 "metadata": {
  "language_info": {
   "name": "python"
  }
 },
 "nbformat": 4,
 "nbformat_minor": 2
}
