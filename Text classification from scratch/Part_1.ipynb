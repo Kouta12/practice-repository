{
 "cells": [
  {
   "cell_type": "markdown",
   "metadata": {},
   "source": [
    "#### Setup"
   ]
  },
  {
   "cell_type": "code",
   "execution_count": 1,
   "metadata": {},
   "outputs": [
    {
     "name": "stdout",
     "output_type": "stream",
     "text": [
      "WARNING:tensorflow:From c:\\Users\\ishik\\anaconda3\\envs\\tensorflow_ml_1\\lib\\site-packages\\keras\\src\\losses.py:2976: The name tf.losses.sparse_softmax_cross_entropy is deprecated. Please use tf.compat.v1.losses.sparse_softmax_cross_entropy instead.\n",
      "\n"
     ]
    }
   ],
   "source": [
    "import os\n",
    "\n",
    "os.environ[\"KERAS_BACKEND\"] = \"tensorflow\"\n",
    "\n",
    "import keras\n",
    "import tensorflow as tf\n",
    "import numpy as np \n",
    "from keras import layers"
   ]
  },
  {
   "cell_type": "markdown",
   "metadata": {},
   "source": [
    "#### Load the data: IMDB movie review sentiment classification\n",
    "- データをダウンロードして構造を見る"
   ]
  },
  {
   "cell_type": "code",
   "execution_count": 2,
   "metadata": {},
   "outputs": [
    {
     "name": "stderr",
     "output_type": "stream",
     "text": [
      "  % Total    % Received % Xferd  Average Speed   Time    Time     Time  Current\n",
      "                                 Dload  Upload   Total   Spent    Left  Speed\n",
      "\n",
      "  0     0    0     0    0     0      0      0 --:--:-- --:--:-- --:--:--     0\n",
      "  0     0    0     0    0     0      0      0 --:--:-- --:--:-- --:--:--     0\n",
      "  0     0    0     0    0     0      0      0 --:--:--  0:00:01 --:--:--     0\n",
      "  0 80.2M    0  144k    0     0  66458      0  0:21:05  0:00:02  0:21:03 66571\n",
      "  0 80.2M    0  480k    0     0   151k      0  0:09:01  0:00:03  0:08:58  151k\n",
      "  1 80.2M    1 1408k    0     0   341k      0  0:04:00  0:00:04  0:03:56  342k\n",
      "  4 80.2M    4 3600k    0     0   698k      0  0:01:57  0:00:05  0:01:52  726k\n",
      "  7 80.2M    7 6176k    0     0  1009k      0  0:01:21  0:00:06  0:01:15 1240k\n",
      " 10 80.2M   10 9008k    0     0  1265k      0  0:01:04  0:00:07  0:00:57 1808k\n",
      " 15 80.2M   15 12.1M    0     0  1527k      0  0:00:53  0:00:08  0:00:45 2406k\n",
      " 19 80.2M   19 15.4M    0     0  1736k      0  0:00:47  0:00:09  0:00:38 2884k\n",
      " 23 80.2M   23 19.0M    0     0  1925k      0  0:00:42  0:00:10  0:00:32 3197k\n",
      " 28 80.2M   28 22.5M    0     0  2072k      0  0:00:39  0:00:11  0:00:28 3373k\n",
      " 32 80.2M   32 26.0M    0     0  2199k      0  0:00:37  0:00:12  0:00:25 3529k\n",
      " 36 80.2M   36 29.6M    0     0  2308k      0  0:00:35  0:00:13  0:00:22 3568k\n",
      " 41 80.2M   41 33.1M    0     0  2401k      0  0:00:34  0:00:14  0:00:20 3615k\n",
      " 45 80.2M   45 36.8M    0     0  2494k      0  0:00:32  0:00:15  0:00:17 3644k\n",
      " 50 80.2M   50 40.5M    0     0  2578k      0  0:00:31  0:00:16  0:00:15 3704k\n",
      " 55 80.2M   55 44.5M    0     0  2664k      0  0:00:30  0:00:17  0:00:13 3792k\n",
      " 60 80.2M   60 48.8M    0     0  2758k      0  0:00:29  0:00:18  0:00:11 3946k\n",
      " 66 80.2M   66 53.5M    0     0  2868k      0  0:00:28  0:00:19  0:00:09 4185k\n",
      " 73 80.2M   73 58.8M    0     0  2997k      0  0:00:27  0:00:20  0:00:07 4518k\n",
      " 80 80.2M   80 64.9M    0     0  3148k      0  0:00:26  0:00:21  0:00:05 4982k\n",
      " 89 80.2M   89 71.9M    0     0  3330k      0  0:00:24  0:00:22  0:00:02 5612k\n",
      "100 80.2M  100 80.2M    0     0  3553k      0  0:00:23  0:00:23 --:--:-- 6452k\n"
     ]
    }
   ],
   "source": [
    "!curl -O https://ai.stanford.edu/~amaas/data/sentiment/aclImdb_v1.tar.gz\n",
    "!tar -xf aclImdb_v1.tar.gz"
   ]
  },
  {
   "cell_type": "code",
   "execution_count": 4,
   "metadata": {},
   "outputs": [
    {
     "name": "stdout",
     "output_type": "stream",
     "text": [
      "README\n",
      "imdb.vocab\n",
      "imdbEr.txt\n",
      "test\n",
      "train\n",
      "labeledBow.feat\n",
      "neg\n",
      "pos\n",
      "urls_neg.txt\n",
      "urls_pos.txt\n",
      "labeledBow.feat\n",
      "neg\n",
      "pos\n",
      "unsup\n",
      "unsupBow.feat\n",
      "urls_neg.txt\n",
      "urls_pos.txt\n",
      "urls_unsup.txt\n"
     ]
    }
   ],
   "source": [
    "!ls aclImdb\n",
    "!ls aclImdb/test\n",
    "!ls aclImdb/train"
   ]
  },
  {
   "cell_type": "code",
   "execution_count": 5,
   "metadata": {},
   "outputs": [
    {
     "name": "stdout",
     "output_type": "stream",
     "text": [
      "Being an Austrian myself this has been a straight knock in my face. Fortunately I don't live nowhere near the place where this movie takes place but unfortunately it portrays everything that the rest of Austria hates about Viennese people (or people close to that region). And it is very easy to read that this is exactly the directors intention: to let your head sink into your hands and say \"Oh my god, how can THAT be possible!\". No, not with me, the (in my opinion) totally exaggerated uncensored swinger club scene is not necessary, I watch porn, sure, but in this context I was rather disgusted than put in the right context.<br /><br />This movie tells a story about how misled people who suffer from lack of education or bad company try to survive and live in a world of redundancy and boring horizons. A girl who is treated like a whore by her super-jealous boyfriend (and still keeps coming back), a female teacher who discovers her masochism by putting the life of her super-cruel \"lover\" on the line, an old couple who has an almost mathematical daily cycle (she is the \"official replacement\" of his ex wife), a couple that has just divorced and has the ex husband suffer under the acts of his former wife obviously having a relationship with her masseuse and finally a crazy hitchhiker who asks her drivers the most unusual questions and stretches their nerves by just being super-annoying.<br /><br />After having seen it you feel almost nothing. You're not even shocked, sad, depressed or feel like doing anything... Maybe that's why I gave it 7 points, it made me react in a way I never reacted before. If that's good or bad is up to you!\n"
     ]
    }
   ],
   "source": [
    "# aclImdb/train/pos および aclImdb/train/negフォルダにはテキストファイルがあり、それぞれ1つのレビュー（肯定的または否定的）を表す：\n",
    "!cat aclImdb/train/pos/6248_7.txt"
   ]
  },
  {
   "cell_type": "code",
   "execution_count": 6,
   "metadata": {},
   "outputs": [],
   "source": [
    "# posとnegのサブフォルダーにしか興味がないので、テキストファイルが入っている他のサブフォルダーを削除しよう：\n",
    "!rm -r aclImdb/train/unsup"
   ]
  },
  {
   "cell_type": "markdown",
   "metadata": {},
   "source": [
    "- <span style=\"color: red;\">keras.utils.text_dataset_from_directory</span>ユーティリティを使用すると、クラス固有のフォルダにファイリングされたディスク上のテキストファイルのセットから、ラベル付きの<span style=\"color: red;\">tf.data.Dataset</span>オブジェクトを生成できます。\n",
    "- これを使って、トレーニング、検証、テストのデータセットを生成してみよう。検証用データセットとトレーニング用データセットは、<span style=\"color: red;\">train</span>ディレクトリの2つのサブセットから生成され、サンプルの20%が検証用データセットに、80%がトレーニング用データセットになります。\n",
    "  \n",
    "- テストデータセットに加えて検証データセットを持つことは、テストデータセットを使うべきでないモデルアーキテクチャなどのハイパーパラメータをチューニングするのに便利である。\n",
    "- しかし、モデルを実世界に出す前に、（検証データセットを作成せずに）利用可能なすべての訓練データを使って再学習させ、その性能を最大にする必要がある。\n",
    "- <span style=\"color: red;\">validation_split</span>と<span style=\"color: red;\">subset</span>引数を使う場合は、ランダムなシードを指定するか、<span style=\"color: red;\">shuffle=False</span>を渡すようにして、検証用とトレーニング用の分割が重ならないようにしてください。"
   ]
  },
  {
   "cell_type": "code",
   "execution_count": 8,
   "metadata": {},
   "outputs": [
    {
     "name": "stdout",
     "output_type": "stream",
     "text": [
      "Found 25000 files belonging to 2 classes.\n",
      "Using 20000 files for training.\n",
      "Found 25000 files belonging to 2 classes.\n",
      "Using 5000 files for validation.\n",
      "Found 25000 files belonging to 2 classes.\n",
      "Number of batches in raw_train_ds: 625\n",
      "Number of batches in raw_val_ds: 157\n",
      "Number of batches in raw_test_ds: 782\n"
     ]
    }
   ],
   "source": [
    "batch_size = 32\n",
    "raw_train_ds = keras.utils.text_dataset_from_directory(\n",
    "    \"aclImdb/train\",\n",
    "    batch_size=batch_size,\n",
    "    validation_split=0.2,\n",
    "    subset=\"training\",\n",
    "    seed=1337,\n",
    ")\n",
    "raw_val_ds = keras.utils.text_dataset_from_directory(\n",
    "    \"aclImdb/train\",\n",
    "    batch_size=batch_size,\n",
    "    validation_split=0.2,\n",
    "    subset=\"validation\",\n",
    "    seed=1337,\n",
    ")\n",
    "raw_test_ds = keras.utils.text_dataset_from_directory(\n",
    "    \"aclImdb/test\",\n",
    "    batch_size=batch_size,\n",
    ")\n",
    "\n",
    "print(f\"Number of batches in raw_train_ds: {raw_train_ds.cardinality()}\")\n",
    "print(f\"Number of batches in raw_val_ds: {raw_val_ds.cardinality()}\")\n",
    "print(f\"Number of batches in raw_test_ds: {raw_test_ds.cardinality()}\")"
   ]
  },
  {
   "cell_type": "markdown",
   "metadata": {},
   "source": [
    "- いくつかサンプルを見てみる\n",
    "    - 正規化とトークン化が期待通りに機能しているかどうか確認するために、生データをチェックすることは大切。"
   ]
  },
  {
   "cell_type": "code",
   "execution_count": 11,
   "metadata": {},
   "outputs": [
    {
     "name": "stdout",
     "output_type": "stream",
     "text": [
      "b'I rented this horrible movie. The worst think I have ever seen. I believe a 1st grade class could have done a better job. The worse film I have ever seen and I have seen some bad ones. Nothing scary except I paid 1.50 to rent it and that was 1.49 too much. The acting is horrible, the characters are worse and the film is just a piece of trash. The slauther house scenes are so low budget that it makes a B movied look like an Oscar candidate. All I can say is if you wnat to waste a good evening and a little money go rent this horrible flick. I would rather watch killer clowns from outer space while sitting in a bucket of razors than sit through this flop again'\n",
      "0\n",
      "b\"I spent almost two hours watching a movie that I thought, with all the good actors in it, would be worth watching. I couldn't believe it when the movie ended and I had absolutely no idea what had happened.....I was mad because I could have used that time doing something else....I tried to figure it all out, but really had no clue. Thanks to those who figured it out and have explained it....right or wrong, it's better than not knowing anything!! Who was the lady in the movie with dark hair that we saw a couple of times driving away? How did First Lady know that her husband was cheating on her? At the end of the movie Kate said she would eventually find out the truth. Does this mean that we're going to be subjected to End Game 2?\"\n",
      "0\n",
      "b\"As incredible as it may seem, Gojoe is an anime- and Hong Kong-inspired samurai action flick with a pacifistic message. This ankle of the film is effectively portrayed through the protagonist (a great acting job done by Daisuke Ryu), a killer-turned-to-boddhist-monk Benkei. Benkei has sworn never to kill again, but he still takes up the sword to fight what he thinks is a demon invasion...<br /><br />Gojoe is a film difficult to rate. It's visual imagery is stunningly crafted and beautiful, but it uses too much trickery (circling camera and high speed drives, expressionistic shots, leeched colors, digital effects etc.), so the end result is somewhat tiring. That said, the beginning and the ending of the film are nevertheless both elegant and powerful. If only the director Sogo Ishii would have been wise enough not to overuse his bag of tricks.<br /><br />Other problem with Gojoe is the amount of violence. For a film with such an anti-violent message Gojoe wastes way too much energy and screen time to depict the endless battle scenes. Also, the way the violence is shown is always on the edge of being self-indulgent; in fact, a blood shower against the night sky seems to be one of the films signature images. Luckily, Ishii is wise enough to show the ugly, tragic side of violence as well. Still, it seems that Ishii is not sure whether he's making a traditional action film or a deeply moral allegory. The audience can't be sure of this, either, until the very end of the film. The powerful (albeit cynical) ending is what saves Gojoe; it clearly emphasizes that this film is something more than a mere gore-fest.\"\n",
      "1\n",
      "b\"I consider this film one of the worst in the Nightmare series. It was so boring that I couldn't remember a thing 20 minutes after the film was over, it even tires me to write a review on it.<br /><br />Okay, #4 was a joke and Freddy was the joker. #5 tried to return to the roots of the series. It was darker and more atmospheric than Nightmare 4, which is a good thing, basically. They tried to shoot a horror film instead of a comedy. Unfortunately they forgot to add suspense and scares. Because of that Nightmare 5: The Dream Child is neither funny nor is it scary. What we actually get is a boring film with the usual bad actors (maybe with the exception of Lisa Wilcox).<br /><br />The plot (Freddy killing Lisa's friends by using the dreams of Lisa's unborn child) has a good base but it just isn't enough for 90 minutes of film. Sometimes the story gets very confusing (maybe because there isn't any) and you can't stop wondering what the filmmakers were aiming at. The screenplay must have had more holes than Swiss Cheese and the film therefore was very cheesy itself (let me say that I don't like cheese though, even if I am from Switzerland). Not even the special effects were as good as for example in part 4.<br /><br />Don't bother to rent/buy this film if not for completeness, it's quite a mess.<br /><br />My rating: 4/10 (get used to it, #6 is also a messy one...)\"\n",
      "0\n",
      "b'This is one of the best films we watched in my high school Spanish class. If you are a fan of the opera, this film will strongly entertain you. Of course, the dancing is wonderful. Watching these amazing dancers moving to the music of Bizet is well worth checking out.'\n",
      "1\n",
      "b\"Disappointing film. Performance of actors is weak. Sets are fine, could have been better. The story is also weak. Battle sequences are awful. Sounds and quality of film are trashy. The history of Kazakh people was told very poorly. This film should have included more Kazakh actors, in leading roles. And also should have been in Kazakh language. Kuno Bekker and Jay Hernandez are Hispanic origins. I don't get it. Since when Hispanic people play Turkic-Mongolian people. This film is shame of Kazakh cinema. Rustam Ibragimbekov disappointed me. He is one of the finest filmmakers in the world. Czekh director is excused, since he is not nomadic origin, he cannot know true spirit and history of nomads.\"\n",
      "0\n",
      "b\"I agree that Capital City should be on DVD. I watched this show only by accident in 1994 and fell in love with Rolf Saxon as Hudson Talbot. It was nice to see Americans who work abroad in London in the financial industry for a change. I loved Rolf in this role and loved every other role that he has been in. I can't believe the show only lasted 13 episodes. I liked William Armstrong as Hudson's flamboyant charming friend in the series. When they aired this show in the New York City area, it was always late at night or at off times. The show is less than an hour long. I felt this show should have gone on longer but the casting changes in the second season really made the show a little less interesting. I didn't care for Sylvia but missed the actress, Julia Phillips-Lane in the previous season. I felt this show took chances and often it worked. It showed Americans who loved and chose to live in London. The American characters were not arrogant or tried to outdo their British counterparts. I also liked the fact that they had tried to internationalize the cast rather than make them all British. I liked watching Julia Ormond in an early role. I felt this show should have lasted longer. I felt at times that the previews lasted as long as the show in less than an hour. They could have transferred the cast to New York City and it would have been a hit in America.\"\n",
      "1\n",
      "b\"Philo Vance (William Powell) helps solve multiple murders among the wealthy after a dog show.<br /><br />Usually I hate overly convoluted mysteries (like this) but I LOVE this movie. It moves very quickly (only 72 minutes), is beautifully directed by Michael Curtiz (he uses tons of camera tricks that just speed the narrative along), has a very ingenious story line (including a solution to a locked room murder that was just incredible) and has a very good cast. <br /><br />Powell is very suave and great as Vance--he doesn't seem to be acting--he IS Vance! Mary Astor isn't given much to do but she adds class and beauty to the production. Everybody else is very good too, but best of all is Eugene Pallette as Detective Heath. He's a very good actor with a VERY distinctive voice and some of his lines were hilarious.<br /><br />Basically, an excellent 1930s Hollywood murder mystery. Well worth seeing.<br /><br />\"\n",
      "1\n",
      "b'Blood Castle (aka Scream of the Demon Lover, Altar of Blood, Ivanna--the best, but least exploitation cinema-sounding title, and so on) is a very traditional Gothic Romance film. That means that it has big, creepy castles, a headstrong young woman, a mysterious older man, hints of horror and the supernatural, and romance elements in the contemporary sense of that genre term. It also means that it is very deliberately paced, and that the film will work best for horror mavens who are big fans of understatement. If you love films like Robert Wise\\'s The Haunting (1963), but you also have a taste for late 1960s/early 1970s Spanish and Italian horror, you may love Blood Castle, as well.<br /><br />Baron Janos Dalmar (Carlos Quiney) lives in a large castle on the outskirts of a traditional, unspecified European village. The locals fear him because legend has it that whenever he beds a woman, she soon after ends up dead--the consensus is that he sets his ferocious dogs on them. This is quite a problem because the Baron has a very healthy appetite for women. At the beginning of the film, yet another woman has turned up dead and mutilated.<br /><br />Meanwhile, Dr. Ivanna Rakowsky (Erna Sch\\xc3\\xbcrer) has appeared in the center of the village, asking to be taken to Baron Dalmar\\'s castle. She\\'s an out-of-towner who has been hired by the Baron for her expertise in chemistry. Of course, no one wants to go near the castle. Finally, Ivanna finds a shady individual (who becomes even shadier) to take her. Once there, an odd woman who lives in the castle, Olga (Cristiana Galloni), rejects Ivanna and says that she shouldn\\'t be there since she\\'s a woman. Baron Dalmar vacillates over whether she should stay. She ends up staying, but somewhat reluctantly. The Baron has hired her to try to reverse the effects of severe burns, which the Baron\\'s brother, Igor, is suffering from.<br /><br />Unfortunately, the Baron\\'s brother appears to be just a lump of decomposing flesh in a vat of bizarre, blackish liquid. And furthermore, Ivanna is having bizarre, hallucinatory dreams. Just what is going on at the castle? Is the Baron responsible for the crimes? Is he insane? <br /><br />I wanted to like Blood Castle more than I did. As I mentioned, the film is very deliberate in its pacing, and most of it is very understated. I can go either way on material like that. I don\\'t care for The Haunting (yes, I\\'m in a very small minority there), but I\\'m a big fan of 1960s and 1970s European horror. One of my favorite directors is Mario Bava. I also love Dario Argento\\'s work from that period. But occasionally, Blood Castle moved a bit too slow for me at times. There are large chunks that amount to scenes of not very exciting talking alternated with scenes of Ivanna slowly walking the corridors of the castle.<br /><br />But the atmosphere of the film is decent. Director Jos\\xc3\\xa9 Luis Merino managed more than passable sets and locations, and they\\'re shot fairly well by Emanuele Di Cola. However, Blood Castle feels relatively low budget, and this is a Roger Corman-produced film, after all (which usually means a low-budget, though often surprisingly high quality \"quickie\"). So while there is a hint of the lushness of Bava\\'s colors and complex set decoration, everything is much more minimalist. Of course, it doesn\\'t help that the Retromedia print I watched looks like a 30-year old photograph that\\'s been left out in the sun too long. It appears \"washed out\", with compromised contrast.<br /><br />Still, Merino and Di Cola occasionally set up fantastic visuals. For example, a scene of Ivanna walking in a darkened hallway that\\'s shot from an exaggerated angle, and where an important plot element is revealed through shadows on a wall only. There are also a couple Ingmar Bergmanesque shots, where actors are exquisitely blocked to imply complex relationships, besides just being visually attractive and pulling your eye deep into the frame.<br /><br />The performances are fairly good, and the women--especially Sch\\xc3\\xbcrer--are very attractive. Merino exploits this fact by incorporating a decent amount of nudity. Sch\\xc3\\xbcrer went on to do a number of films that were as much soft corn porn as they were other genres, with English titles such as Sex Life in a Woman\\'s Prison (1974), Naked and Lustful (1974), Strip Nude for Your Killer (1975) and Erotic Exploits of a Sexy Seducer (1977). Blood Castle is much tamer, but in addition to the nudity, there are still mild scenes suggesting rape and bondage, and of course the scenes mixing sex and death.<br /><br />The primary attraction here, though, is probably the story, which is much a slow-burning romance as anything else. The horror elements, the mystery elements, and a somewhat unexpected twist near the end are bonuses, but in the end, Blood Castle is a love story, about a couple overcoming various difficulties and antagonisms (often with physical threats or harms) to be together.'\n",
      "1\n",
      "b'I was surprised at just how much I enjoyed this most thoughtfully delivered drama, which owing to its rather unimpressive 6.6 rating, I nearly missed; as I rarely give the time of day to any movie rated below 7/10. Having said that, I\\'m so glad I gave Stone Angel the viewing it so very much deserved. And so should you, if you are one of the increasingly rare sensitive, soulful and thoughtful sorts of person left on this earth in living form.<br /><br />I must say that in many ways (though not all), viz. its themes, execution, style, production etc., Stone Angel very much reminded me of the much praised \"The Notebook\". I am so surprised that other commentators didn\\'t pick up on the many similarities which repeatedly struck me throughout this movie, so I can only assume that those who\\'ve written comments have yet to see the Notebook. They may not share any Alzheimer\\'s theme, yet I can confidently say that if you very much enjoyed \"The Notebook\" you will certainly find much to engage your time most fruitfully with \"The Stone Angel\". But even If you\\'ve not seen The Notebook, nor read the book on which this move is based, (which, incidentally, I haven\\'t either) you should definitely find much to hold your attention firmly - as long as your favourite genres don\\'t include fast paced action thrillers. This is a movie for thinkers and those who like to reminisce about time\\'s passing, how life changes as the years pass, and what might have happened in one\\'s life as one gazes back through the years.<br /><br />This bizarrely underrated yet great movie really deserves a rating of approximately 8/10. I can only blame its current lowish rating of 6.6/10 on the 11% of idiots who gave it 1/10. After all it has attracted less than 300 votes at the time of my writing this comment. Nonetheless, if those 11% who gave it the lowest ranking possible were really expecting car chases and explosions why didn\\'t they look... for even a few seconds at the movie\\'s premise and promotional lines? Oh dear... Whatever the world is coming to, don\\'t miss this most underrated gem of a movie - but only *if* you have a brain (i.e., your top ten doesn\\'t include Transformers, Fight Club nor The Terminator).'\n",
      "1\n"
     ]
    }
   ],
   "source": [
    "for text_batch, label_batch in raw_train_ds.take(1):\n",
    "    for i in range(10):\n",
    "        print(text_batch.numpy()[i])\n",
    "        print(label_batch.numpy()[i])"
   ]
  },
  {
   "cell_type": "markdown",
   "metadata": {},
   "source": [
    "#### Prepare the data\n",
    "- < /br>タグを削除する"
   ]
  },
  {
   "cell_type": "code",
   "execution_count": null,
   "metadata": {},
   "outputs": [],
   "source": []
  }
 ],
 "metadata": {
  "kernelspec": {
   "display_name": "tensorflow_ml_1",
   "language": "python",
   "name": "python3"
  },
  "language_info": {
   "codemirror_mode": {
    "name": "ipython",
    "version": 3
   },
   "file_extension": ".py",
   "mimetype": "text/x-python",
   "name": "python",
   "nbconvert_exporter": "python",
   "pygments_lexer": "ipython3",
   "version": "3.10.13"
  }
 },
 "nbformat": 4,
 "nbformat_minor": 2
}
